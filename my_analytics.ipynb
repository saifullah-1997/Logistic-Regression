{
 "cells": [
  {
   "cell_type": "markdown",
   "metadata": {},
   "source": [
    "## Script File for the e-assessment submission\n",
    "## BACS3013 Data Science\n",
    "### 2020/2021 Sept/Oct Exam\n",
    "\n",
    "It’s an open-book e-assessment. You are allowed to refer to any practical notes/use cases/GitHub/Stack Overflow etc. Anyhow, you MUST NOT receive any help whatsoever from any other person. If you need any clarification, please directly ask the lecturer(s)-in-charge."
   ]
  },
  {
   "cell_type": "markdown",
   "metadata": {},
   "source": [
    "## Please insert your details below:\n",
    "    \n",
    "1) Double click the cell below\n",
    "\n",
    "\n",
    "2) Type your name and student id\n",
    "\n",
    "\n",
    "3) press CTRL + Enter\n"
   ]
  },
  {
   "cell_type": "markdown",
   "metadata": {},
   "source": [
    "# Name:\n",
    "# Student ID:"
   ]
  },
  {
   "cell_type": "markdown",
   "metadata": {},
   "source": [
    " "
   ]
  },
  {
   "cell_type": "markdown",
   "metadata": {},
   "source": [
    "# Step 1: put the last three digits of your student id as the my_state_number\n",
    "\n",
    "eg: if your id is 1904888\n",
    "\n",
    "you should then write\n",
    "\n",
    "\n",
    "my_state_number = 888\n"
   ]
  },
  {
   "cell_type": "code",
   "execution_count": null,
   "metadata": {},
   "outputs": [],
   "source": [
    "# replace 888 with the last three digits of your student id\n",
    "# and then press CTRL + Enter\n",
    "my_state_number = 888"
   ]
  },
  {
   "cell_type": "markdown",
   "metadata": {},
   "source": [
    "# Step 2: read the data_set.csv"
   ]
  },
  {
   "cell_type": "code",
   "execution_count": null,
   "metadata": {
    "scrolled": false
   },
   "outputs": [],
   "source": [
    "import pandas as pd\n",
    "data = pd.read_csv(\"data_set.csv\")\n",
    "\n",
    "data.head()"
   ]
  },
  {
   "cell_type": "markdown",
   "metadata": {},
   "source": [
    "# Step 3: sample the data randomly the data and save the dataframe as myNewData "
   ]
  },
  {
   "cell_type": "code",
   "execution_count": null,
   "metadata": {
    "scrolled": true
   },
   "outputs": [],
   "source": [
    "myNewData = data.sample(frac =.90, replace = False, random_state = my_state_number)\n",
    "myNewData.head()"
   ]
  },
  {
   "cell_type": "markdown",
   "metadata": {},
   "source": [
    "# Start the Analytics using **myNewData** dataframe as the raw data\n",
    "note: your *myNewData* dataframe may be different from other students' *myNewData* dataframe"
   ]
  },
  {
   "cell_type": "code",
   "execution_count": null,
   "metadata": {},
   "outputs": [],
   "source": [
    "# Start your codes\n"
   ]
  }
 ],
 "metadata": {
  "kernelspec": {
   "display_name": "Python 3",
   "language": "python",
   "name": "python3"
  },
  "language_info": {
   "codemirror_mode": {
    "name": "ipython",
    "version": 3
   },
   "file_extension": ".py",
   "mimetype": "text/x-python",
   "name": "python",
   "nbconvert_exporter": "python",
   "pygments_lexer": "ipython3",
   "version": "3.8.3"
  }
 },
 "nbformat": 4,
 "nbformat_minor": 2
}
